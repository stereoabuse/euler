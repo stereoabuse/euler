{
 "cells": [
  {
   "cell_type": "markdown",
   "metadata": {},
   "source": [
    "### *Solved but need refactoring*\n",
    "3, 9, 12, 27, 33, 49, 50, 57, 72, 73, 80, 96, 97"
   ]
  },
  {
   "cell_type": "markdown",
   "metadata": {},
   "source": [
    "# Imports"
   ]
  },
  {
   "cell_type": "code",
   "execution_count": 1,
   "metadata": {},
   "outputs": [],
   "source": [
    "import requests\n",
    "from calendar import monthcalendar, setfirstweekday\n",
    "from collections import Counter\n",
    "from math import factorial, ceil, floor, log, gcd, sqrt, prod\n",
    "from fractions import Fraction\n",
    "from functools import lru_cache\n",
    "from itertools import permutations, combinations\n",
    "from num2words import num2words\n",
    "from string import ascii_lowercase\n",
    "from sympy.ntheory import totient"
   ]
  },
  {
   "cell_type": "markdown",
   "metadata": {},
   "source": [
    "# Utilities"
   ]
  },
  {
   "cell_type": "code",
   "execution_count": 2,
   "metadata": {},
   "outputs": [],
   "source": [
    "def seive(n: int) -> list:\n",
    "    primes = 2 * [False] + (n - 1) * [True]\n",
    "    for i in range(2, int(n ** 0.5 + 1.5)):\n",
    "        for j in range(i * i, n + 1, i):\n",
    "            primes[j] = False\n",
    "    return [prime for prime, checked in enumerate(primes) if checked]\n",
    "\n",
    "def fibs(n):\n",
    "    fib_list = [1, 1]\n",
    "    x, y = 1, 2\n",
    "    while y <= n:\n",
    "        x, y = y, x + y\n",
    "        fib_list.append(x)\n",
    "    return fib_list\n",
    "\n",
    "@lru_cache()\n",
    "def fib_cached(i):\n",
    "    if i == 1:\n",
    "        return 1\n",
    "    elif i == 2:\n",
    "        return 2\n",
    "    else:\n",
    "        return fibs(i - 2) + fibs(i - 1)\n",
    "\n",
    "def is_prime(x):\n",
    "    if x <= 1:\n",
    "        return False\n",
    "    elif x <= 3:\n",
    "        return True\n",
    "    elif x % 2 == 0:\n",
    "        return False\n",
    "    else:\n",
    "        for i in range(3, ceil(sqrt(x)) + 1, 2):\n",
    "            if x % i == 0:\n",
    "                return False\n",
    "        return True"
   ]
  },
  {
   "cell_type": "code",
   "execution_count": 3,
   "metadata": {},
   "outputs": [],
   "source": [
    "million = 1000000\n",
    "billion = 1000000000"
   ]
  },
  {
   "cell_type": "markdown",
   "metadata": {},
   "source": [
    "# Problem Functions"
   ]
  },
  {
   "cell_type": "markdown",
   "metadata": {},
   "source": [
    "## 1"
   ]
  },
  {
   "cell_type": "code",
   "execution_count": 4,
   "metadata": {},
   "outputs": [],
   "source": [
    "def prob_001(n=1000):\n",
    "    \"Returns sum of all multiples of 3 and 5 below n\"\n",
    "    mult_sum = 0\n",
    "    for i in range (3, n):\n",
    "        if i % 3 == 0 or i % 5 ==0:\n",
    "            mult_sum += i\n",
    "    return mult_sum"
   ]
  },
  {
   "cell_type": "markdown",
   "metadata": {},
   "source": [
    "## 2"
   ]
  },
  {
   "cell_type": "code",
   "execution_count": 5,
   "metadata": {},
   "outputs": [],
   "source": [
    "def prob_002(val=4*million):\n",
    "    \"Returns sum of even fibonacci's under val\"\n",
    "    a, b = 1, 2\n",
    "    evenset = set()\n",
    "    while b < val:\n",
    "        if b % 2 == 0:\n",
    "            evenset.add(b)\n",
    "        a, b = b, a + b\n",
    "    return sum(evenset)"
   ]
  },
  {
   "cell_type": "markdown",
   "metadata": {},
   "source": [
    "## 4"
   ]
  },
  {
   "cell_type": "code",
   "execution_count": 6,
   "metadata": {},
   "outputs": [],
   "source": [
    "def prob_004(digits=3):\n",
    "    \"Returns largest palindrome made from product of two 3-digit numbers\"\n",
    "    n = 10 ** digits\n",
    "    biglist = []\n",
    "    for i in range(n):\n",
    "        for j in range(i,n):\n",
    "            if str(i*j) == \"\".join(reversed(str(i*j))):\n",
    "                biglist.append(i*j)\n",
    "    return sorted(biglist)[-1]"
   ]
  },
  {
   "cell_type": "markdown",
   "metadata": {},
   "source": [
    "## 5"
   ]
  },
  {
   "cell_type": "code",
   "execution_count": 7,
   "metadata": {},
   "outputs": [],
   "source": [
    "def prob_005(n=20):\n",
    "    \"Returns smallest number that is evenly divisible by all the numbers from 1 to n\"\n",
    "    ans = 1\n",
    "    for i in range(1, 21):\n",
    "        ans *= floor(i / gcd(i, ans))\n",
    "    return ans"
   ]
  },
  {
   "cell_type": "markdown",
   "metadata": {},
   "source": [
    "## 6"
   ]
  },
  {
   "cell_type": "code",
   "execution_count": 8,
   "metadata": {},
   "outputs": [],
   "source": [
    "def prob_006(n=100):\n",
    "    \"Returns the difference between first one hundred natural numbers and the square of that sum\"\n",
    "    sum_of_squares = 0\n",
    "    sums = 0\n",
    "    for i in range(n+1):\n",
    "        sum_of_squares += i**2\n",
    "        sums += i\n",
    "    square_of_sums = sums ** 2\n",
    "    return abs(sum_of_squares- square_of_sums)"
   ]
  },
  {
   "cell_type": "markdown",
   "metadata": {},
   "source": [
    "## 7"
   ]
  },
  {
   "cell_type": "code",
   "execution_count": 9,
   "metadata": {},
   "outputs": [],
   "source": [
    "def prob_007(LIMIT=10001):\n",
    "    primes = 0\n",
    "    n = 1\n",
    "    while True:\n",
    "        if is_prime(n):\n",
    "            primes += 1\n",
    "        if primes == LIMIT:\n",
    "            return n\n",
    "        n += 1"
   ]
  },
  {
   "cell_type": "markdown",
   "metadata": {},
   "source": [
    "## 8"
   ]
  },
  {
   "cell_type": "code",
   "execution_count": 10,
   "metadata": {},
   "outputs": [],
   "source": [
    "def prob_008():\n",
    "    n = 7316717653133062491922511967442657474235534919493496983520312774506326239578318016984801869478851843858615607891129494954595017379583319528532088055111254069874715852386305071569329096329522744304355766896648950445244523161731856403098711121722383113622298934233803081353362766142828064444866452387493035890729629049156044077239071381051585930796086670172427121883998797908792274921901699720888093776657273330010533678812202354218097512545405947522435258490771167055601360483958644670632441572215539753697817977846174064955149290862569321978468622482839722413756570560574902614079729686524145351004748216637048440319989000889524345065854122758866688116427171479924442928230863465674813919123162824586178664583591245665294765456828489128831426076900422421902267105562632111110937054421750694165896040807198403850962455444362981230987879927244284909188845801561660979191338754992005240636899125607176060588611646710940507754100225698315520005593572972571636269561882670428252483600823257530420752963450\n",
    "    num_string = []\n",
    "    for digit in str(n):\n",
    "        num_string.append(digit)\n",
    "\n",
    "    string_product = []\n",
    "    for i in range(len(num_string) - 13):\n",
    "        add_this = int(num_string[i]) * int(num_string[i +1]) * int(num_string[i+2]) * int(num_string[i +3]) * int(num_string[i + 4]) * int(num_string[i + 5]) * int(num_string[i+6]) * int(num_string[i +7]) * int(num_string[i + 8]) * int(num_string[i +9]) * int(num_string[i+10]) * int(num_string[i +11]) * int(num_string[i + 12])\n",
    "        string_product.append(add_this)\n",
    "\n",
    "    return sorted(string_product, reverse = True)[0]"
   ]
  },
  {
   "cell_type": "markdown",
   "metadata": {},
   "source": [
    "## 10"
   ]
  },
  {
   "cell_type": "code",
   "execution_count": 11,
   "metadata": {},
   "outputs": [],
   "source": [
    "def prob_010(n=2*million):\n",
    "    \"Returns the sum of all primes beneath n\"\n",
    "    numbers = set(range(n,1,-1))\n",
    "    primes = []\n",
    "    while numbers:\n",
    "        p = numbers.pop()\n",
    "        primes.append(p)\n",
    "        numbers.difference_update(set(range(p*2,n+1,p)))\n",
    "    return sum(primes)"
   ]
  },
  {
   "cell_type": "markdown",
   "metadata": {},
   "source": [
    "## 11"
   ]
  },
  {
   "cell_type": "code",
   "execution_count": 12,
   "metadata": {},
   "outputs": [],
   "source": [
    "from math import prod\n",
    "def prob_011():\n",
    "    \"return greated product of 4 adjactent numbers on the grid\"\n",
    "    grid = open('utility/euler_011_grid.txt').readlines()\n",
    "\n",
    "    list_grid = []     \n",
    "    for line in grid:\n",
    "        line_grid = []\n",
    "        line = line.split()\n",
    "        for item in line:\n",
    "            line_grid.append(int(item))\n",
    "        list_grid.append(line_grid)\n",
    "    down_list, across_list = [], []\n",
    "    diagonal_down_list, diagonal_up_list = [], []\n",
    "    \n",
    "    for index in range(17):\n",
    "        for subindex in range(17):\n",
    "            across = prod(list_grid[index][subindex + i] for i in range(4))\n",
    "            across_list.append(across)\n",
    "            down = prod(list_grid[index + i][subindex] for i in range(4))\n",
    "            down_list.append(down)\n",
    "            diagonal_down = prod(list_grid[index + i][subindex + i] for i in range(4))\n",
    "            diagonal_down_list.append(diagonal_down)\n",
    "            diagonal_up = prod(list_grid[index - i][subindex + i] for i in range(4))\n",
    "            diagonal_up_list.append(diagonal_up)\n",
    "    return sorted(down_list + across_list + diagonal_down_list + diagonal_up_list, reverse = True)[0]"
   ]
  },
  {
   "cell_type": "markdown",
   "metadata": {},
   "source": [
    "## 13"
   ]
  },
  {
   "cell_type": "code",
   "execution_count": 13,
   "metadata": {},
   "outputs": [],
   "source": [
    "def prob_013():\n",
    "    \"Returns the first ten digits of the sum of all the numbers in file\"\n",
    "    fh = open('utility/euler_13_numbers.txt')\n",
    "    the_sum = 0\n",
    "    for line in fh:\n",
    "        the_sum += int(line)\n",
    "        \n",
    "    return int(str(the_sum)[0:10])"
   ]
  },
  {
   "cell_type": "markdown",
   "metadata": {},
   "source": [
    "## 14"
   ]
  },
  {
   "cell_type": "code",
   "execution_count": 14,
   "metadata": {},
   "outputs": [],
   "source": [
    "def prob_014(n=million):\n",
    "    \"Returns longest Collatz chain under n\"\n",
    "    collatzs =[]\n",
    "    for i in range(1,n):\n",
    "        sequence_num = i\n",
    "        count = 0\n",
    "        while sequence_num != 1:\n",
    "            if sequence_num % 2 == 0:\n",
    "                sequence_num = sequence_num / 2\n",
    "            else:\n",
    "                sequence_num = 3* sequence_num + 1\n",
    "            count += 1\n",
    "        collatzs.append(tuple((count,i)))\n",
    "    return sorted(collatzs, reverse = True)[:1][0][1]"
   ]
  },
  {
   "cell_type": "markdown",
   "metadata": {},
   "source": [
    "## 15"
   ]
  },
  {
   "cell_type": "code",
   "execution_count": 15,
   "metadata": {},
   "outputs": [],
   "source": [
    "def prob_015(n=20, m=20):\n",
    "    \"Returns number of routes through n by m grid\"\n",
    "    num = factorial(m+n)\n",
    "    den = factorial(m) * factorial(n)\n",
    "    return num // den"
   ]
  },
  {
   "cell_type": "markdown",
   "metadata": {},
   "source": [
    "## 16"
   ]
  },
  {
   "cell_type": "code",
   "execution_count": 16,
   "metadata": {},
   "outputs": [],
   "source": [
    "def prob_016():\n",
    "    \"Return sum of digits of 2 to the 1000\"\n",
    "    return sum(int(item) for item in [digit for digit in str(2**1000)])"
   ]
  },
  {
   "cell_type": "markdown",
   "metadata": {},
   "source": [
    "## 17"
   ]
  },
  {
   "cell_type": "code",
   "execution_count": 17,
   "metadata": {},
   "outputs": [],
   "source": [
    "def prob_017():\n",
    "    '''Returns number of letters if 1-1000 were written out...\n",
    "    thank god for python libraries'''\n",
    "    ans = 0\n",
    "    for i in range(1, 1001):\n",
    "        count = len(num2words(i).replace(' ','').replace('-',''))\n",
    "        ans += count\n",
    "    return ans "
   ]
  },
  {
   "cell_type": "markdown",
   "metadata": {},
   "source": [
    "## 18"
   ]
  },
  {
   "cell_type": "code",
   "execution_count": 18,
   "metadata": {},
   "outputs": [],
   "source": [
    "def prob_018():\n",
    "    \"Return max total top to bottom of triangle\"\n",
    "    nums = open('utility/euler_18_numbers.txt').readlines()\n",
    "    tri = [[int(i) for i in r.split()] for r in nums][::-1]\n",
    "    b = tri\n",
    "    for i in range(len(tri[:-1])):\n",
    "        n = [max(tri[i][m], tri[i][m+ 1]) for m, j in enumerate(tri[i][:-1])]\n",
    "        b[i+1] = [sum(k) for k in zip(n, tri[i+1])]\n",
    "    return max(b)[0]"
   ]
  },
  {
   "cell_type": "markdown",
   "metadata": {},
   "source": [
    "## 19"
   ]
  },
  {
   "cell_type": "code",
   "execution_count": 19,
   "metadata": {},
   "outputs": [],
   "source": [
    "def prob_019(first_yr=1901, last_yr=2000): \n",
    "    \"Return how many Sundays are on the 1st of the month in the 20th century\"\n",
    "    setfirstweekday(6)\n",
    "    total = 0\n",
    "    for year in range(first_yr, last_yr + 1):\n",
    "        total += sum(1 for month in range(1, 12 + 1) if monthcalendar(year, month)[0][0] == 1)\n",
    "    return total"
   ]
  },
  {
   "cell_type": "markdown",
   "metadata": {},
   "source": [
    "## 20"
   ]
  },
  {
   "cell_type": "code",
   "execution_count": 20,
   "metadata": {},
   "outputs": [],
   "source": [
    "def prob_020(n=100):\n",
    "    \"Returns sum of digits in 100!\"\n",
    "    total_factorial, total_sum = 1, 0\n",
    "    for i in range(1,n):\n",
    "        total_factorial *= i\n",
    "    for j in str(total_factorial):\n",
    "        total_sum += int(j)\n",
    "    return total_sum"
   ]
  },
  {
   "cell_type": "markdown",
   "metadata": {},
   "source": [
    "## 21"
   ]
  },
  {
   "cell_type": "code",
   "execution_count": 21,
   "metadata": {},
   "outputs": [],
   "source": [
    "def prob_021(low=200,high=10000):\n",
    "    '''\n",
    "    Return sum of amicable numbers under 1000.\n",
    "    https://en.wikipedia.org/wiki/Amicable_numbers\n",
    "    '''\n",
    "    newlist = []\n",
    "    for i in range(low,high):\n",
    "        i_sum = sum(j for j in range(1,int(i/2)+1) if i % j == 0)\n",
    "        k_sum = sum(k for k in range(1, int(i_sum/2)+1) if i_sum % k == 0)\n",
    "        if k_sum == i and i_sum!= k_sum:\n",
    "            newlist.append(i)\n",
    "    return sum(newlist)"
   ]
  },
  {
   "cell_type": "markdown",
   "metadata": {},
   "source": [
    "## 22"
   ]
  },
  {
   "cell_type": "code",
   "execution_count": 22,
   "metadata": {},
   "outputs": [],
   "source": [
    "def prob_022():\n",
    "    '''return sum of ord(letter) * line number'''\n",
    "    import utility.p022_names as namefile\n",
    "    sorted_names = sorted(namefile.names)\n",
    "    total, counter = 0, 1\n",
    "    for name in sorted_names:\n",
    "        name_value = sum((ord(letter) - 64) for letter in name)\n",
    "        total += name_value * counter\n",
    "        counter += 1\n",
    "    return total"
   ]
  },
  {
   "cell_type": "markdown",
   "metadata": {},
   "source": [
    "## 23"
   ]
  },
  {
   "cell_type": "code",
   "execution_count": 23,
   "metadata": {},
   "outputs": [],
   "source": [
    "def prob_023(n = 28124):\n",
    "    '''\n",
    "    Return sum of all positive integers that can NOT\n",
    "    be written as the sum of two abundant number\n",
    "    https://en.wikipedia.org/wiki/Abundant_number\n",
    "    '''\n",
    "    abundant_list, non_sum = [], []\n",
    "    int_list_sum = sum(range(1,n))\n",
    "\n",
    "    double_abundants = set()\n",
    "    for i in range(1,n):\n",
    "        i_divisor_sum = sum(j for j in range(1, int(i/2) + 1) if i % j == 0)\n",
    "        if i_divisor_sum > i:\n",
    "            abundant_list.append(i)\n",
    "    \n",
    "    for x in abundant_list:\n",
    "        for y in abundant_list:\n",
    "            if y + x < n:\n",
    "                double_abundants.add(x + y)\n",
    "                \n",
    "    return int_list_sum - sum(double_abundants)"
   ]
  },
  {
   "cell_type": "markdown",
   "metadata": {},
   "source": [
    "## 24"
   ]
  },
  {
   "cell_type": "code",
   "execution_count": 24,
   "metadata": {},
   "outputs": [],
   "source": [
    " def prob_024(digit=1000000):\n",
    "    '''\n",
    "    Retrun lexographic permutation of digits\n",
    "    https://www.nayuki.io/page/next-lexicographical-permutation-algorithm\n",
    "    '''\n",
    "    pdlist = [''.join(item) for item in set(permutations('0123456789'))]\n",
    "    return int(sorted(pdlist)[digit-1])"
   ]
  },
  {
   "cell_type": "markdown",
   "metadata": {},
   "source": [
    "## 25"
   ]
  },
  {
   "cell_type": "code",
   "execution_count": 25,
   "metadata": {},
   "outputs": [],
   "source": [
    "def prob_025(n=1000):\n",
    "    '''Return index of fib sequence with length of n'''\n",
    "    i = 1\n",
    "    while True:\n",
    "        a = fib_cached(i)\n",
    "        if len(str(a)) == 1000:\n",
    "            return i + 1\n",
    "        i += 1"
   ]
  },
  {
   "cell_type": "markdown",
   "metadata": {},
   "source": [
    "## 26"
   ]
  },
  {
   "cell_type": "code",
   "execution_count": 26,
   "metadata": {},
   "outputs": [],
   "source": [
    "def prob_026(d=1000):\n",
    "    '''return value less than d for which \n",
    "        1/value contains the longest recurring\n",
    "        cycle in its decimal fration part'''\n",
    "    num = long = 1\n",
    "    for number in range(3, d, 2):\n",
    "        if number % 5 == 0:\n",
    "            continue\n",
    "        p = 1 \n",
    "        while (10 ** p) % num != 1:\n",
    "            p += 1\n",
    "        if p > long:\n",
    "            num, long = n, p\n",
    "    return num"
   ]
  },
  {
   "cell_type": "markdown",
   "metadata": {},
   "source": [
    "## 28"
   ]
  },
  {
   "cell_type": "code",
   "execution_count": 27,
   "metadata": {},
   "outputs": [],
   "source": [
    "def prob_028(SIDE=1001):\n",
    "    '''Return sum of number on diagonal in SIDE x SIDE square'''\n",
    "    mult, n, total = 0, 1, 1\n",
    "    for _i in range(SIDE // 2):\n",
    "        mult += 2\n",
    "        for _j in range(4):\n",
    "            n += mult\n",
    "            total+= n\n",
    "    return total"
   ]
  },
  {
   "cell_type": "markdown",
   "metadata": {},
   "source": [
    "## 29"
   ]
  },
  {
   "cell_type": "code",
   "execution_count": 28,
   "metadata": {},
   "outputs": [],
   "source": [
    "def prob_029(n=100):\n",
    "    ''' Return distinct terms in sequence\n",
    "        generated by a^b for 2<=a<=100 and 2<=b<=100'''\n",
    "    unique_nums = set()\n",
    "    for i in range(2,n+1):\n",
    "        for j in range(2,n+1):\n",
    "            unique_nums.add(i**j)\n",
    "    return len(unique_nums)"
   ]
  },
  {
   "cell_type": "markdown",
   "metadata": {},
   "source": [
    "## 30"
   ]
  },
  {
   "cell_type": "code",
   "execution_count": 29,
   "metadata": {},
   "outputs": [],
   "source": [
    "def prob_030(n=10*million):\n",
    "    '''\n",
    "    Return sum of all numbers that can be expresse\n",
    "    as the sum of fifth powers of their digits\n",
    "    '''\n",
    "    dig_fith_list = []\n",
    "    for i in range(2,n):\n",
    "        digits_summed = 0\n",
    "        for digit in map(int,str(i)):\n",
    "            digits_summed += digit ** 5\n",
    "        if digits_summed == i:\n",
    "            dig_fith_list.append(i)\n",
    "    return sum(dig_fith_list)"
   ]
  },
  {
   "cell_type": "markdown",
   "metadata": {},
   "source": [
    "## 31"
   ]
  },
  {
   "cell_type": "code",
   "execution_count": 30,
   "metadata": {},
   "outputs": [],
   "source": [
    "def prob_031(n=200):\n",
    "    '''Return number of ways to make 2pounds from coins'''\n",
    "    coins = {1, 2, 5, 10, 20, 50, 100, 200}\n",
    "    parts = [1] + [0] * n\n",
    "    for c in coins:\n",
    "        for i, x in enumerate(range(c, n + 1)):\n",
    "            parts[x] += parts[i]\n",
    "    return parts[n]"
   ]
  },
  {
   "cell_type": "markdown",
   "metadata": {},
   "source": [
    "## 32"
   ]
  },
  {
   "cell_type": "code",
   "execution_count": 31,
   "metadata": {},
   "outputs": [],
   "source": [
    "def prob_032():\n",
    "    '''\n",
    "    Return sum of produces whose mutiplicand,\n",
    "    multiplier, produce identity can be written\n",
    "    as a 1-9 pangidital\n",
    "    '''\n",
    "    digits = '123456789'\n",
    "    products = set()\n",
    "    for x in range(2000):\n",
    "        for y in range(50):\n",
    "            pdstring = str(x)+str(y)+str(x * y)\n",
    "            if len(pdstring) == 9 and all(char in pdstring for char in digits):\n",
    "                products.add(x*y)\n",
    "    return sum(products)"
   ]
  },
  {
   "cell_type": "markdown",
   "metadata": {},
   "source": [
    "## 34"
   ]
  },
  {
   "cell_type": "code",
   "execution_count": 32,
   "metadata": {},
   "outputs": [],
   "source": [
    "def prob_034(n=100000):\n",
    "    '''\n",
    "    Return sum of numbers equal to factorial of digits'''\n",
    "    sum_of_sums = 0\n",
    "    i_list = []\n",
    "    for i in range(3,n+1):\n",
    "        i_str = str(i)\n",
    "        fact_sum = sum(factorial(int(character)) for character in i_str)\n",
    "        if fact_sum == i:\n",
    "            sum_of_sums += i\n",
    "            i_list.append(fact_sum)\n",
    "    return sum_of_sums"
   ]
  },
  {
   "cell_type": "markdown",
   "metadata": {},
   "source": [
    "## 35"
   ]
  },
  {
   "cell_type": "code",
   "execution_count": 33,
   "metadata": {},
   "outputs": [],
   "source": [
    "def prob_035(n=million):\n",
    "    '''\n",
    "    A circular prime is a prime where each rotation of the \n",
    "    number is also a prime (197 -> 971 -> 719)\n",
    "    Return number of circular primes below 1 million\n",
    "    '''\n",
    "    circs = set()\n",
    "    primes = set(seive(n))\n",
    "    for prime in primes:\n",
    "        prime_str = str(prime)\n",
    "        if all([int(prime_str[i:]+prime_str[:i]) in primes for i in range(len(prime_str))]):\n",
    "                circs.add(prime)\n",
    "    return len(circs)"
   ]
  },
  {
   "cell_type": "markdown",
   "metadata": {},
   "source": [
    "## 36"
   ]
  },
  {
   "cell_type": "code",
   "execution_count": 34,
   "metadata": {},
   "outputs": [],
   "source": [
    "def prob_036(n=million):\n",
    "    '''\n",
    "    return sum of all numbers less than million that are \n",
    "    palidromic in base 10 and base 2\n",
    "    '''\n",
    "    pal_sum = [i for i in range(1,n) if str(i) == str(i)[::-1] \\\n",
    "               and bin(i)[2:] == bin(i)[:1:-1]]\n",
    "    return sum(pal_sum)"
   ]
  },
  {
   "cell_type": "markdown",
   "metadata": {},
   "source": [
    "## 37"
   ]
  },
  {
   "cell_type": "code",
   "execution_count": 35,
   "metadata": {},
   "outputs": [],
   "source": [
    "def prob_037(n=10*million):\n",
    "    primes = set(seive(n))\n",
    "    trunc = set()\n",
    "    for prime in primes:\n",
    "        ps = str(prime)\n",
    "        if len(ps) > 1:\n",
    "            if all([int(ps[i:]) in primes for i in range(len(ps))]) \\\n",
    "            and all([int(ps[:len(ps)-i]) in primes for i in range(len(ps))]):\n",
    "                trunc.add(prime)\n",
    "    return sum(trunc)"
   ]
  },
  {
   "cell_type": "markdown",
   "metadata": {},
   "source": [
    "## 38"
   ]
  },
  {
   "cell_type": "code",
   "execution_count": 36,
   "metadata": {},
   "outputs": [],
   "source": [
    "def prob_038():\n",
    "    digits = [str(i) for i in range(1,10)]\n",
    "    for i in range(10000,0,-1):\n",
    "        number = str(i)+str(i*2)\n",
    "        if len(number) == 9 and all(x in number for x in digits):\n",
    "            return int(number)"
   ]
  },
  {
   "cell_type": "markdown",
   "metadata": {},
   "source": [
    "## 39"
   ]
  },
  {
   "cell_type": "code",
   "execution_count": 37,
   "metadata": {},
   "outputs": [],
   "source": [
    "def prob_039(p=120):\n",
    "    endlist = []\n",
    "    for p in range(1001,100,-1):\n",
    "        plist = []\n",
    "        for a in range(500):\n",
    "            for b in range(500):\n",
    "                c = sqrt(a ** 2 + b **2)\n",
    "                lengths = []\n",
    "                if a + b + sqrt(a ** 2 + b ** 2) == p and (a**2 + b ** 2 == c ** 2):\n",
    "                    lengths = sorted([a,b,c])\n",
    "                    plist.append(len(lengths))\n",
    "        endlist.append([p, len(plist)])\n",
    "    return sorted(endlist, reverse=True, key=lambda x : x[1])[0][0]"
   ]
  },
  {
   "cell_type": "markdown",
   "metadata": {},
   "source": [
    "## 40"
   ]
  },
  {
   "cell_type": "code",
   "execution_count": 38,
   "metadata": {},
   "outputs": [],
   "source": [
    "def prob_040():\n",
    "    champ = ''\n",
    "    for i in range(1,200000):\n",
    "        i = str(i)\n",
    "        champ+= i\n",
    "    ans = int(champ[0])*int(champ[9])*\\\n",
    "            int(champ[99])*int(champ[999])\\\n",
    "            *int(champ[9999])*int(champ[99999])\\\n",
    "            *int(champ[999999])\n",
    "    return ans"
   ]
  },
  {
   "cell_type": "markdown",
   "metadata": {},
   "source": [
    "## 41"
   ]
  },
  {
   "cell_type": "code",
   "execution_count": 39,
   "metadata": {},
   "outputs": [],
   "source": [
    "def prob_041():\n",
    "    nums = list(permutations('7654321'))\n",
    "    oddnums = [int(''.join(i)) for i in nums if int(i[-1]) % 2 != 0]\n",
    "    oddnums = sorted(oddnums, reverse=True)\n",
    "    for i in oddnums:\n",
    "        if is_prime(i):\n",
    "            return i"
   ]
  },
  {
   "cell_type": "markdown",
   "metadata": {},
   "source": [
    "## 42"
   ]
  },
  {
   "cell_type": "code",
   "execution_count": 40,
   "metadata": {},
   "outputs": [],
   "source": [
    "def prob_042():\n",
    "    from utility.euler_042_words import wordlist\n",
    "    numlist = []\n",
    "    for word in wordlist:\n",
    "        wordnum = 0\n",
    "        for character in word:\n",
    "            wordnum += ord(character.lower())-96\n",
    "        numlist.append(wordnum)\n",
    "    tri_set = set()\n",
    "    for i in range(1,sorted(numlist)[-1]):\n",
    "        tri_set.add(1/2 * i * (i + 1))\n",
    "    \n",
    "    return len(coded)"
   ]
  },
  {
   "cell_type": "markdown",
   "metadata": {},
   "source": [
    "## 43"
   ]
  },
  {
   "cell_type": "code",
   "execution_count": 41,
   "metadata": {},
   "outputs": [],
   "source": [
    "def prob_043():\n",
    "    pandigits = list(permutations('9876543210'))\n",
    "    pandigitals, pandigstrings = [], []\n",
    "    for row in pandigits:\n",
    "        pandigitals.append(int(''.join(row)))\n",
    "        pandigstrings.append(''.join(row))\n",
    "    bigsum = 0\n",
    "    for item in pandigstrings:\n",
    "        if 0 == (int(item[1:4]) % 2) == (int(item[2:5]) % 3) == \\\n",
    "        (int(item[3:6]) % 5) == (int(item[4:7]) % 7) == (int(item[5:8]) % 11)\\\n",
    "        == (int(item[6:9]) % 13) == (int(item[7:10]) % 17):\n",
    "            bigsum += int(item)\n",
    "\n",
    "    return bigsum"
   ]
  },
  {
   "cell_type": "markdown",
   "metadata": {},
   "source": [
    "## 44"
   ]
  },
  {
   "cell_type": "code",
   "execution_count": 42,
   "metadata": {},
   "outputs": [],
   "source": [
    "def prob_044():\n",
    "    pent_list = []\n",
    "    pent_d = []\n",
    "    for i in range(1,2999):\n",
    "        pent_list.append(i*(3*i-1)//2)\n",
    "    pent_set = set(pent_list)\n",
    "    for pent1 in pent_set:\n",
    "        for pent2 in pent_set:\n",
    "            if (pent1 + pent2) in pent_set and (pent1 - pent2) in pent_set:\n",
    "                pent_d.append(tuple((pent1-pent2,pent1,pent2)))\n",
    "    return sorted(pent_d, reverse=True)[:1][0][0]"
   ]
  },
  {
   "cell_type": "markdown",
   "metadata": {},
   "source": [
    "## 45"
   ]
  },
  {
   "cell_type": "code",
   "execution_count": 43,
   "metadata": {},
   "outputs": [],
   "source": [
    "def prob_045(n=million):\n",
    "    tri_list, pent_list, hexag_list = [], [], []\n",
    "    for i in range(1,n):\n",
    "        tri_list.append(i*(i+1) / 2)\n",
    "        pent_list.append(i*(3*i -1) / 2)\n",
    "        hexag_list.append(i*(2*i -1))\n",
    "    tri_pent = set(tri_list).intersection(pent_list)\n",
    "    hex_pent_tri = set(tri_pent).intersection(hexag_list)\n",
    "    return max(hex_pent_tri)"
   ]
  },
  {
   "cell_type": "markdown",
   "metadata": {},
   "source": [
    "## 46"
   ]
  },
  {
   "cell_type": "code",
   "execution_count": 44,
   "metadata": {},
   "outputs": [],
   "source": [
    "def prob_046(n=10000):\n",
    "    primes = seive(n)\n",
    "    odd_composite = []\n",
    "    goldbach_nums = []\n",
    "    for i in range(3,n,2):\n",
    "        if i not in primes:\n",
    "            odd_composite.append(i)\n",
    "        for prime in primes:\n",
    "            if prime < i:\n",
    "                for square in range(1,int(sqrt(n))):\n",
    "                    if i == prime + (2 *square**2) and i not in primes:\n",
    "                        goldbach_nums.append(i)\n",
    "    return [item for item in odd_composite if item not in goldbach_nums]"
   ]
  },
  {
   "cell_type": "markdown",
   "metadata": {},
   "source": [
    "## 47"
   ]
  },
  {
   "cell_type": "code",
   "execution_count": 45,
   "metadata": {},
   "outputs": [],
   "source": [
    "def prob_047():\n",
    "    primes = set(euler_funcs.seive(350))\n",
    "    biglist = set()\n",
    "    for i in primes:\n",
    "        for j in primes:\n",
    "            for k in primes:\n",
    "                for m in primes:\n",
    "                    biglist.add(i*j*k*m)\n",
    "                    biglist.add(i*j*k*m*i)\n",
    "                    biglist.add(i*j*k*m*j)\n",
    "                    biglist.add(i*j*k*m*k)\n",
    "                    biglist.add(i*j*k*m*m)\n",
    "    biglist = sorted(list(biglist))\n",
    "\n",
    "    def prime_factors(n):\n",
    "        i = 2\n",
    "        factors = []\n",
    "        while i * i <= n:\n",
    "            if n % i:\n",
    "                i += 1\n",
    "            else:\n",
    "                n //= i\n",
    "                factors.append(i)\n",
    "        if n > 1:\n",
    "            factors.append(n)\n",
    "        return factors\n",
    "    for i in range(1,million):\n",
    "        alist = set(prime_factors(i))\n",
    "        blist = set(prime_factors(i+1))\n",
    "        clist = set(prime_factors(i+2))\n",
    "        dlist = set(prime_factors(i+3))\n",
    "        if len(alist) == len(blist) == len(clist) == len(dlist)== 4:\n",
    "                    return i\n"
   ]
  },
  {
   "cell_type": "markdown",
   "metadata": {},
   "source": [
    "## 48"
   ]
  },
  {
   "cell_type": "code",
   "execution_count": 46,
   "metadata": {},
   "outputs": [],
   "source": [
    "def prob_048(n=1000):\n",
    "    return int(str(sum(i**i for i in range(1, n+1)))[-10:])"
   ]
  },
  {
   "cell_type": "markdown",
   "metadata": {},
   "source": [
    "## 51"
   ]
  },
  {
   "cell_type": "code",
   "execution_count": 47,
   "metadata": {},
   "outputs": [],
   "source": [
    "def prob_051():\n",
    "    \n",
    "    def prime_group(x):\n",
    "        '''Returns a list of booleans.  Assumes the input number\n",
    "        is a string with a ? for the digit to replace'''\n",
    "        digits = '0123456789'\n",
    "        return sum(1 for d in digits if is_prime(int(x.replace('?', d))))\n",
    "\n",
    "    \n",
    "    def ordering(n_digits):\n",
    "        '''Returns a sorted list showing the index ordering for N digits of how to check'''\n",
    "        all_combos, result = [], []\n",
    "        for i in range(1, n_digits):\n",
    "            all_combos += list(combinations(list(range(n_digits -1)), i))\n",
    "        for t in all_combos:\n",
    "            item = ''.join([str(i) if i in t else ' ' for i in range(n_digits)])\n",
    "            item_2 = [i for i in range(n_digits) if i in t]\n",
    "            result.append((item, item_2))\n",
    "        results = sorted(result, key=lambda result: result[0])\n",
    "        return_val = [r[1] for r in results]\n",
    "        return_val.remove([0,1,2])\n",
    "        return return_val\n",
    "    \n",
    "    ans = []\n",
    "    low, high = 100001, 188001 * 100\n",
    "    for n in range(low, high, 2):\n",
    "        order = ordering(len(str(n)))\n",
    "        for item in order:\n",
    "            num_string = list(str(n))\n",
    "            for index in item:\n",
    "                num_string[index] = '?'\n",
    "            if prime_group(''.join(num_string)) == 8 and is_prime(n):\n",
    "                ans.append(n)\n",
    "                if len(ans) == 2:\n",
    "                    return ans[1]\n",
    "                break"
   ]
  },
  {
   "cell_type": "markdown",
   "metadata": {},
   "source": [
    "## 52"
   ]
  },
  {
   "cell_type": "code",
   "execution_count": 48,
   "metadata": {},
   "outputs": [],
   "source": [
    "def prob_052(n=million):\n",
    "    for i in range(1,n):\n",
    "        if sorted(str(i)) == sorted(str(i*2))\\\n",
    "        and sorted(str(i*3)) == sorted(str(i*4))\\\n",
    "        and sorted(str(i*5)) == sorted(str(i*6))\\\n",
    "        and sorted(str(i)) == sorted(str(i*6)):\n",
    "            return i"
   ]
  },
  {
   "cell_type": "markdown",
   "metadata": {},
   "source": [
    "## 53"
   ]
  },
  {
   "cell_type": "code",
   "execution_count": 49,
   "metadata": {},
   "outputs": [],
   "source": [
    "def prob_053(n=100):\n",
    "    counter = 0\n",
    "    for n in range(1,n+1):\n",
    "        for r in range(1,n):\n",
    "            if factorial(n)//(factorial(r)*factorial(n-r)) > million:\n",
    "                counter += 1\n",
    "    return counter"
   ]
  },
  {
   "cell_type": "markdown",
   "metadata": {},
   "source": [
    "## 54"
   ]
  },
  {
   "cell_type": "code",
   "execution_count": 50,
   "metadata": {},
   "outputs": [],
   "source": [
    "def prob_054():\n",
    "    \n",
    "    # Poker card utility information\n",
    "    hands = open('utility/p054_poker.txt').read().splitlines()\n",
    "    cards = ('2', '3', '4', '5', '6', '7', '8', '9', 'T', 'J', 'Q', 'K', 'A')\n",
    "    straights = [sorted(cards[c:c+5]) for c in range(0, len(cards)-4)]\n",
    "\n",
    "    def values(hand):  return [cards.index(h[0]) for h in hand]\n",
    "    def rank(counter): return cards.index(counter.most_common()[0][0])\n",
    "\n",
    "    # player hands\n",
    "    p1 = [sorted(hand.split()[:5]) for hand in hands]\n",
    "    p2 = [sorted(hand.split()[5:]) for hand in hands]\n",
    "\n",
    "\n",
    "    # These functions return a list of [True if this hand exists, high card value if exists]\n",
    "    def one_pair(hand):\n",
    "        c = Counter([h[0] for h in hand])\n",
    "        exists = c.most_common()[0][1] == 2\n",
    "        return [exists, rank(c) if exists else -1]\n",
    "\n",
    "    def two_pair(hand):\n",
    "        c = Counter([h[0] for h in hand])\n",
    "        exists = c.most_common()[0][1] == 2 and c.most_common()[1][1] == 2\n",
    "        return [exists, rank(c) if exists else -1]\n",
    "\n",
    "    def three_of_a_kind(hand):\n",
    "        c = Counter([h[0] for h in hand])\n",
    "        exists = c.most_common()[0][1] == 3\n",
    "        return [exists, rank(c) if exists else -1]\n",
    "\n",
    "    def straight(hand):  # this is an old one that I can't figure out\n",
    "        exists = sorted([card[0] for card in hand]) in straights\n",
    "        return [exists, max(values(hand)) if exists else -1]\n",
    "\n",
    "    def flush(hand):\n",
    "        c = Counter([h[1] for h in hand])\n",
    "        exists = c.most_common()[0][1] == 5\n",
    "        return [exists, max(values(hand)) if exists else -1]\n",
    "\n",
    "    def full_house(hand):\n",
    "        c = Counter([h[0] for h in hand])\n",
    "        exists = c.most_common()[0][1] == 3 and c.most_common()[1][1] == 2\n",
    "        return [exists, max(values(hand)) if exists else -1]\n",
    "\n",
    "    def four_of_a_kind(hand):\n",
    "        c = Counter([h[0] for h in hand])\n",
    "        exists = c.most_common()[0][1] == 4\n",
    "        return [exists, rank(c) if exists else -1]\n",
    "\n",
    "    def straight_flush(hand):\n",
    "        exists = flush(hand)[0] and straight(hand)[0]\n",
    "        return [exists, max(values(hand)) if exists else -1]\n",
    "\n",
    "    def royal_flush(hand):\n",
    "        exists = flush(hand)[0] and straight(hand)[0] and \\\n",
    "                 ('A' and 'T') in [card[0] for card in hand]\n",
    "        return [exists, max(values(hand)) if exists else -1]\n",
    "\n",
    "    def high_card(hand):\n",
    "        return max([cards.index(c[0]) for c in hand])\n",
    "\n",
    "\n",
    "    def points(hand):\n",
    "        if royal_flush(hand)[0]:       return [9, royal_flush(hand)[1]]\n",
    "        elif straight_flush(hand)[0]:  return [8, straight_flush(hand)[1]]\n",
    "        elif four_of_a_kind(hand)[0]:  return [7, four_of_a_kind(hand)[1]]\n",
    "        elif full_house(hand)[0]:      return [6, full_house(hand)[1]]\n",
    "        elif flush(hand)[0]:           return [5, flush(hand)[1]]\n",
    "        elif straight(hand)[0]:        return [4, straight(hand)[1]]\n",
    "        elif three_of_a_kind(hand)[0]: return [3, three_of_a_kind(hand)[1]]\n",
    "        elif two_pair(hand)[0]:        return [2, two_pair(hand)[1]]\n",
    "        elif one_pair(hand)[0]:        return [1, one_pair(hand)[1]]\n",
    "        else:                          return [-1, high_card(hand)]\n",
    "\n",
    "\n",
    "    def p1_wins(p1_hand, p2_hand):\n",
    "        if points(p1_hand)[0] >  points(p2_hand)[0] or \\\n",
    "        (points(p1_hand)[0] ==  points(p2_hand)[0] and \\\n",
    "         points(p1_hand)[1] >  points(p2_hand)[1]):\n",
    "            return 1\n",
    "        return 0\n",
    "    \n",
    "    return sum((p1_wins(p1[i], p2[i]) for i in range(len(hands))))"
   ]
  },
  {
   "cell_type": "markdown",
   "metadata": {},
   "source": [
    "## 55"
   ]
  },
  {
   "cell_type": "code",
   "execution_count": 51,
   "metadata": {},
   "outputs": [],
   "source": [
    "def prob_055(n=10000):\n",
    "    ly = n\n",
    "    for num in range(1,n+1):\n",
    "        counter = 0\n",
    "        while counter < 50:\n",
    "            if num + int(str(num)[::-1]) == int(str(num + int(str(num)[::-1]))[::-1]):\n",
    "                ly -=1\n",
    "                counter = 50\n",
    "            else:\n",
    "                num += int(str(num)[::-1])\n",
    "                counter += 1\n",
    "    return ly"
   ]
  },
  {
   "cell_type": "markdown",
   "metadata": {},
   "source": [
    "## 56"
   ]
  },
  {
   "cell_type": "code",
   "execution_count": 52,
   "metadata": {},
   "outputs": [],
   "source": [
    "def prob_056(n=100):\n",
    "    numbers, = [], []\n",
    "    for a in range(1,n):\n",
    "        for b in range(1,n):\n",
    "            numbers.append(a**b)\n",
    "    for number in numbers:\n",
    "        digit_total = sum(int(digit) for digit in str(number))\n",
    "        digitmaxes.append(digit_total)\n",
    "    return sorted(digitmaxes, reverse=True)[0]"
   ]
  },
  {
   "cell_type": "markdown",
   "metadata": {},
   "source": [
    "## 58"
   ]
  },
  {
   "cell_type": "code",
   "execution_count": 53,
   "metadata": {},
   "outputs": [],
   "source": [
    "def prob_058():\n",
    "    diag = []\n",
    "    SIDE, ratio = 1, 1\n",
    "    while ratio > .1:\n",
    "        SIDE += 2\n",
    "        diag = [1]\n",
    "        multiplier = 0\n",
    "        n = 1\n",
    "        for _i in range(SIDE // 2):\n",
    "            multiplier += 2\n",
    "            for _j in range(4):\n",
    "                n += multiplier\n",
    "                if is_prime(n):\n",
    "                    diag.append(n)\n",
    "        ratio = len(diag) / (SIDE // 2 * 4 + 1)\n",
    "    return SIDE"
   ]
  },
  {
   "cell_type": "markdown",
   "metadata": {},
   "source": [
    "## 59"
   ]
  },
  {
   "cell_type": "code",
   "execution_count": 54,
   "metadata": {},
   "outputs": [],
   "source": [
    "def prob_059():\n",
    "    \n",
    "    words = [x.strip() for x in open('utility/59_frequency/words.txt').readlines()]\n",
    "    cipher_url = 'https://projecteuler.net/project/resources/p059_cipher.txt'\n",
    "    cipher_text = [int(num) for num in requests.get(cipher_url).text.split(',')]\n",
    "    letts = ascii_lowercase\n",
    "    d = {}\n",
    "\n",
    "    for l_0 in letts:\n",
    "        for l_1 in letts:\n",
    "            for l_2 in letts:\n",
    "                s = ''\n",
    "                count = 0\n",
    "                for index, item in enumerate(cipher_text):\n",
    "                    if index % 3 == 0:\n",
    "                        s += chr(ord(l_0) ^ item)\n",
    "                    if index % 3 == 1:\n",
    "                        s += chr(ord(l_1) ^ item)\n",
    "                    if index % 3 == 2:\n",
    "                        s += chr(ord(l_2) ^ item)\n",
    "                for word in words:\n",
    "                    if word in s:\n",
    "                        count += 1\n",
    "                d[f'{l_0}{l_1}{l_2}'] = count\n",
    "    best_fit = [k for k, v in sorted(d.items(), key=lambda item: item[1], reverse=True)][0]\n",
    "    total = 0\n",
    "    for index, item in enumerate(cipher_text):\n",
    "        if index % 3 == 0:\n",
    "            total += ord(best_fit[0]) ^ item\n",
    "        if index % 3 == 1:\n",
    "            total += ord(best_fit[1]) ^ item\n",
    "        if index % 3 == 2:\n",
    "            total += ord(best_fit[2]) ^ item\n",
    "    return total"
   ]
  },
  {
   "cell_type": "markdown",
   "metadata": {},
   "source": [
    "## 62"
   ]
  },
  {
   "cell_type": "code",
   "execution_count": 55,
   "metadata": {},
   "outputs": [],
   "source": [
    "def prob_062():\n",
    "    d = {}\n",
    "    for i in range(300, 10000):\n",
    "        tripled = ''.join(sorted(str(i ** 3)))\n",
    "        if not tripled in d:\n",
    "            d[tripled] = []\n",
    "            d[tripled].append(i)\n",
    "        else:\n",
    "            d[tripled].append(i)\n",
    "    return sorted(d.items(), key=lambda x:len(x[1]), reverse=True)[0][1][0] ** 3"
   ]
  },
  {
   "cell_type": "markdown",
   "metadata": {},
   "source": [
    "## 63"
   ]
  },
  {
   "cell_type": "code",
   "execution_count": 56,
   "metadata": {},
   "outputs": [],
   "source": [
    "def prob_063():\n",
    "    n_list = []\n",
    "    for n in range(1,900):\n",
    "        for i in range(1,500):\n",
    "            if len(str(i**n)) == n:\n",
    "                n_list.append(i**n)\n",
    "    return len(n_list)"
   ]
  },
  {
   "cell_type": "markdown",
   "metadata": {},
   "source": [
    "## 67"
   ]
  },
  {
   "cell_type": "code",
   "execution_count": 57,
   "metadata": {},
   "outputs": [],
   "source": [
    "def prob_067():\n",
    "    nums = open('utility/euler_67_numbers.txt').readlines()\n",
    "    tri = [[int(i) for i in r.split()] for r in nums][::-1]\n",
    "    b = tri\n",
    "    for i in range(len(tri[:-1])):\n",
    "        row = tri[i]\n",
    "        n = [max(row[m], row[m+ 1]) for m, j in enumerate(row[:-1])]\n",
    "        b[i+1] = [sum(k) for k in zip(n, tri[i+1])]\n",
    "    return max(b)[0]"
   ]
  },
  {
   "cell_type": "markdown",
   "metadata": {},
   "source": [
    "## 69"
   ]
  },
  {
   "cell_type": "code",
   "execution_count": 58,
   "metadata": {},
   "outputs": [],
   "source": [
    "def prob_069(end=million):\n",
    "    maximum = (0, 0)\n",
    "    for n in range(1, end+1):\n",
    "        if n / totient(n) > maximum[0]:\n",
    "            maximum = (n / totient(n), n)\n",
    "\n",
    "    return maximum"
   ]
  },
  {
   "cell_type": "markdown",
   "metadata": {},
   "source": [
    "## 71"
   ]
  },
  {
   "cell_type": "code",
   "execution_count": 59,
   "metadata": {},
   "outputs": [],
   "source": [
    "def prob_071(LIMIT=10**6):\n",
    "    below = math.floor(Fraction(3,7) * LIMIT)\n",
    "    return below-1 "
   ]
  },
  {
   "cell_type": "markdown",
   "metadata": {},
   "source": [
    "## 74"
   ]
  },
  {
   "cell_type": "code",
   "execution_count": 60,
   "metadata": {},
   "outputs": [],
   "source": [
    "def digit_factorial(n):\n",
    "    df = sum(factorial(int(i)) for i in str(n))\n",
    "    return df\n",
    "\n",
    "def prob_074(m=million):\n",
    "    total = 0\n",
    "    for n in range(1, m):\n",
    "        num = n\n",
    "        chain = set()\n",
    "        while num not in chain:\n",
    "            chain.add(num)\n",
    "            num = digit_factorial(num)\n",
    "        if len(chain) == 60:\n",
    "            total += 1\n",
    "    return total"
   ]
  },
  {
   "cell_type": "markdown",
   "metadata": {},
   "source": [
    "## 76"
   ]
  },
  {
   "cell_type": "code",
   "execution_count": 61,
   "metadata": {},
   "outputs": [],
   "source": [
    "def prob_076(n=100):\n",
    "    numbers = set(range(1,100))\n",
    "    parts = [1] + [0] * n\n",
    "    for c in numbers:\n",
    "        for i, x in enumerate(range(c, n + 1)):\n",
    "            parts[x] += parts[i]\n",
    "    return parts[n]"
   ]
  },
  {
   "cell_type": "markdown",
   "metadata": {},
   "source": [
    "## 79"
   ]
  },
  {
   "cell_type": "code",
   "execution_count": 62,
   "metadata": {},
   "outputs": [],
   "source": [
    "def prob_079():\n",
    "    '''solve it by hand'''\n",
    "    return 73162890"
   ]
  },
  {
   "cell_type": "markdown",
   "metadata": {},
   "source": [
    "## 87"
   ]
  },
  {
   "cell_type": "code",
   "execution_count": 63,
   "metadata": {},
   "outputs": [],
   "source": [
    "def prob_087(top=50*million):\n",
    "    prime_squares = [i**2 for i in seive(int(top**(1/2)))]\n",
    "    prime_cubes = [i ** 3 for i in seive(int(top**(1/3)))]\n",
    "    prime_quads = [i ** 4 for i in seive(int(top**(1/4)))]\n",
    "    ppts_2 = []\n",
    "    for square in prime_squares:\n",
    "        for cube in prime_cubes:\n",
    "            for quad in prime_quads:\n",
    "                if square + cube + quad < top:\n",
    "                    ppts_2.append(square + cube + quad)\n",
    "    return len(set(ppts_2))"
   ]
  },
  {
   "cell_type": "markdown",
   "metadata": {},
   "source": [
    "## 91"
   ]
  },
  {
   "cell_type": "code",
   "execution_count": 64,
   "metadata": {},
   "outputs": [],
   "source": [
    "def prob_091(LIMIT=50):\n",
    "    right_tri = 0 \n",
    "    for x1 in range(0, LIMIT + 1):\n",
    "        for x2 in range(0, LIMIT + 1):\n",
    "            for y1 in range(0, LIMIT + 1):\n",
    "                for y2 in range(0, LIMIT + 1):\n",
    "                    P = (x1, y1)\n",
    "                    Q = (x2, y2)\n",
    "                    if len(set([O,P,Q])) == 3:\n",
    "                        OP = ((P[0] - O[0]) ** 2 + (P[1] - O[1]) ** 2)\n",
    "                        PQ = ((Q[0] - P[0]) ** 2 + (Q[1] - P[1]) ** 2)\n",
    "                        QO = ((O[0] - Q[0]) ** 2 + (O[1] - Q[1]) ** 2)\n",
    "                        a, b, c = sorted([OP, PQ, QO])\n",
    "                        if a  + b  == c :\n",
    "                            right_tri += 1\n",
    "    return right_tri // 2"
   ]
  },
  {
   "cell_type": "markdown",
   "metadata": {},
   "source": [
    "## 92"
   ]
  },
  {
   "cell_type": "code",
   "execution_count": 65,
   "metadata": {},
   "outputs": [],
   "source": [
    "def prob_092(LIMIT=10*million):\n",
    "    \n",
    "    def digit_chain(n):\n",
    "        square_digit = sum(int(i) ** 2 for i in str(n))\n",
    "        return square_digit\n",
    "    \n",
    "    eight_nines = 0\n",
    "    for i in range(1,LIMIT):\n",
    "        while True:\n",
    "            if digit_chain(i) == 89:\n",
    "                eighbt_nines += 1\n",
    "                break\n",
    "            elif digit_chain(i) == 1:\n",
    "                break\n",
    "            else:\n",
    "                i = digit_chain(i)\n",
    "    return eight_nines"
   ]
  },
  {
   "cell_type": "markdown",
   "metadata": {},
   "source": [
    "## 99"
   ]
  },
  {
   "cell_type": "code",
   "execution_count": 66,
   "metadata": {},
   "outputs": [],
   "source": [
    "def prob_099():\n",
    "    lines = [line.strip().split(',') for line in open('utility/base_exp.txt', 'r').readlines()]\n",
    "    greatest = 0\n",
    "    top = ''\n",
    "    for line in lines:\n",
    "        if int(line[1]) * log(int(line[0]))> greatest:\n",
    "            greatest = int(line[1]) * log(int(line[0]))\n",
    "            top = line\n",
    "    return lines.index(top) + 1"
   ]
  },
  {
   "cell_type": "markdown",
   "metadata": {},
   "source": [
    "## 102"
   ]
  },
  {
   "cell_type": "code",
   "execution_count": 67,
   "metadata": {},
   "outputs": [],
   "source": [
    "def prob_102():\n",
    "    path = 'utility/euler_102_triangles.txt'\n",
    "    total,px,py = 0,0,0\n",
    "    for tri in open(path):\n",
    "        (ax,ay,bx,by,cx,cy) = [int(point) for point in tri.split(\",\")]\n",
    "        abc,pbc = abs((ax*(by-cy)+bx*(cy-ay)+cx*(ay-by))/2),abs((px*(by-cy)+bx*(cy-py)+cx*(py-by))/2)\n",
    "        apc,abp = abs((ax*(py-cy)+px*(cy-ay)+cx*(ay-py))/2),abs((ax*(by-py)+bx*(py-ay)+px*(ay-by))/2)\n",
    "        if abc == pbc + apc + abp:\n",
    "            total+=1\n",
    "    return total"
   ]
  },
  {
   "cell_type": "markdown",
   "metadata": {},
   "source": [
    "## 112"
   ]
  },
  {
   "cell_type": "code",
   "execution_count": 68,
   "metadata": {},
   "outputs": [],
   "source": [
    "def prob_112():\n",
    "    bounce_list = []\n",
    "    i = 2\n",
    "    while len(bounce_list)/(i-1) != .99:\n",
    "        forward, reverse = [int(digit) for digit in str(i)], [int(digit) for digit in str(i)[::-1]]\n",
    "        if not all(i <= j for i, j in zip(forward, forward[1:])) \\\n",
    "        and not all(i <= j for i, j in zip(reverse, reverse[1:])):\n",
    "            bounce_list.append(i)\n",
    "        i += 1\n",
    "    return i-1"
   ]
  },
  {
   "cell_type": "markdown",
   "metadata": {},
   "source": [
    "## 145"
   ]
  },
  {
   "cell_type": "code",
   "execution_count": 69,
   "metadata": {},
   "outputs": [],
   "source": [
    "def rev(n):\n",
    "    rev_n = int(str(n)[::-1])\n",
    "    sum_ = n + rev_n\n",
    "    if (n or rev_n) % 10 == 0:\n",
    "        return False\n",
    "    return all(int(i) % 2 != 0 for i in str(sum_))\n",
    "\n",
    "def prob_145(billion=10**9):\n",
    "    return sum(1 for i in range(billion) if rev(i))"
   ]
  },
  {
   "cell_type": "markdown",
   "metadata": {},
   "source": [
    "## 206"
   ]
  },
  {
   "cell_type": "code",
   "execution_count": 70,
   "metadata": {},
   "outputs": [],
   "source": [
    "def prob_206():\n",
    "    START = int(sqrt(1020304050607080900)) + 60\n",
    "    STOP = int(sqrt(1929394959697989990))\n",
    "    concealed = '1_2_3_4_5_6_7_8_9_0'\n",
    "    concealed = [concealed[i] for i in range(0, len(concealed), 2)]\n",
    "\n",
    "    for root in range(START, STOP, 100):\n",
    "        square = str(root ** 2)\n",
    "        square_part_list = [square[i] for i in range(0, len(square), 2)]\n",
    "        if square_part_list == concealed:\n",
    "            return root"
   ]
  },
  {
   "cell_type": "markdown",
   "metadata": {},
   "source": [
    "## 719"
   ]
  },
  {
   "cell_type": "code",
   "execution_count": 71,
   "metadata": {},
   "outputs": [],
   "source": [
    "def splitter(n):\n",
    "    s = str(n)\n",
    "    for i in range(1, len(s)):\n",
    "        start = int(s[0:i])\n",
    "        end = int(s[i:])\n",
    "        yield (start, end)\n",
    "        for split in splitter(end):\n",
    "            result = [start]\n",
    "            result.extend(split)\n",
    "            yield result\n",
    "            \n",
    "def is_S(n):\n",
    "    'if the square root of the S number'\n",
    "    for split in splitter(n**2):\n",
    "        if sum(split) == n:\n",
    "            return True\n",
    "    return False     \n",
    "\n",
    "def prob_719(N=10**12):\n",
    "    return sum(i**2 for i in range(1, int(sqrt(N) + 1)) if is_S(i))"
   ]
  },
  {
   "cell_type": "markdown",
   "metadata": {},
   "source": [
    "# Tests"
   ]
  },
  {
   "cell_type": "code",
   "execution_count": null,
   "metadata": {},
   "outputs": [],
   "source": [
    "def tests():\n",
    "    assert prob_001() ==     233168\n",
    "    assert prob_002() ==     4613732\n",
    "    assert prob_004() ==     906609\n",
    "    assert prob_005() ==     232792560\n",
    "    assert prob_006() ==     25164150\n",
    "    assert prob_007() ==     104743\n",
    "    assert prob_008() ==     23514624000\n",
    "    assert prob_010() ==     142913828922\n",
    "    assert prob_011() ==     70600674\n",
    "    assert prob_013() ==     5537376230\n",
    "    assert prob_014() ==     837799\n",
    "    assert prob_015() ==     137846528820\n",
    "    assert prob_016() ==     1366\n",
    "    assert prob_017() ==     21124\n",
    "    assert prob_018() ==     1074\n",
    "    assert prob_019() ==     171\n",
    "    assert prob_020() ==     648\n",
    "    assert prob_021() ==     31626\n",
    "    assert prob_022() ==     871198282\n",
    "    assert prob_023() ==     4179871\n",
    "    assert prob_024() ==     2783915460\n",
    "    assert prob_025() ==     4782\n",
    "    assert prob_026() ==     983\n",
    "    assert prob_028() ==     669171001\n",
    "    assert prob_029() ==     9183\n",
    "    assert prob_030() ==     443839\n",
    "    assert prob_031() ==     73682\n",
    "    assert prob_032() ==     45228\n",
    "    assert prob_034() ==     40730\n",
    "    assert prob_035() ==     55\n",
    "    assert prob_036() ==     872187\n",
    "    assert prob_037() ==     748317\n",
    "    assert prob_038() ==     932718654\n",
    "    assert prob_039() ==     840\n",
    "    assert prob_040() ==     210\n",
    "    assert prob_041() ==     7652413\n",
    "    assert prob_042() ==     162\n",
    "    assert prob_043() ==     16695334890\n",
    "    assert prob_044() ==     5482660\n",
    "    assert prob_045() ==     1533776805\n",
    "    assert prob_046() ==     5777\n",
    "    assert prob_047() ==     134043\n",
    "    assert prob_048() ==     9110846700\n",
    "    assert prob_051() ==     121313\n",
    "    assert prob_052() ==     142857\n",
    "    assert prob_053() ==     4075\n",
    "    assert prob_054() ==     376\n",
    "    assert prob_055() ==     249\n",
    "    assert prob_056() ==     972\n",
    "    assert prob_058() ==     26241\n",
    "    assert prob_059() ==     129448\n",
    "    assert prob_062() ==     127035954683   \n",
    "    assert prob_063() ==     49\n",
    "    assert prob_067() ==     7273\n",
    "    assert prob_069() ==     510510\n",
    "    assert prob_071() ==     428570\n",
    "    assert prob_074() ==     402\n",
    "    assert prob_076() ==     190569291\n",
    "    assert prob_079() ==     73162890\n",
    "    assert prob_087() ==     1097343\n",
    "    assert prob_091() ==     14234\n",
    "    assert prob_092() ==     8581146\n",
    "    assert prob_099() ==     709\n",
    "    assert prob_102() ==     228\n",
    "    assert prob_112() ==     1587000\n",
    "    assert prob_145() ==     608720\n",
    "    assert prob_206() ==     1389019170\n",
    "    assert prob_719() ==     128088830547982\n",
    "    \n",
    "%time tests()"
   ]
  }
 ],
 "metadata": {
  "kernelspec": {
   "display_name": "Python 3",
   "language": "python",
   "name": "python3"
  },
  "language_info": {
   "codemirror_mode": {
    "name": "ipython",
    "version": 3
   },
   "file_extension": ".py",
   "mimetype": "text/x-python",
   "name": "python",
   "nbconvert_exporter": "python",
   "pygments_lexer": "ipython3",
   "version": "3.8.1"
  }
 },
 "nbformat": 4,
 "nbformat_minor": 4
}
